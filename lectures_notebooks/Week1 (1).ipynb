{
 "cells": [
  {
   "cell_type": "markdown",
   "id": "24053449-f6aa-407c-b308-ec8c01a50934",
   "metadata": {},
   "source": [
    "# Week 1\n",
    "\n",
    "- website: https://janboone.github.io/msc_datascience/index.html\n",
    "- github issues: https://github.com/janboone/msc_datascience/issues\n",
    "- website screencasts: https://janboone.github.io/msc_datascience/pagescreencasts.html\n",
    "- first lecture: https://janboone.github.io/msc_datascience/Introduction_Lecture.html#introduction\n",
    "- assignment 1\n",
    "  - github account\n",
    "  - jupyterlab: clone repository with notebook\n",
    "  - final assignment\n",
    "- suggested workflow:\n",
    "  - do the datacamp course in the schedule\n",
    "  - do the relevant parts of the notebook =Statistical Hacking for Economists=\n",
    "  - post questions that you have on github issues; we will address these in the lectures\n"
   ]
  },
  {
   "cell_type": "markdown",
   "id": "07534eb2-e038-47fc-a9f2-530922d26a42",
   "metadata": {},
   "source": [
    "## packages we will use"
   ]
  },
  {
   "cell_type": "code",
   "execution_count": 1,
   "id": "37a3e263-a5e2-425d-a7bb-1e9b2b5ce343",
   "metadata": {},
   "outputs": [],
   "source": [
    "from __future__ import absolute_import, division, print_function, unicode_literals\n",
    "\n",
    "import numpy as np\n",
    "import pandas as pd\n",
    "import seaborn as sn\n",
    "from scipy import optimize\n",
    "import pymc3 as pm\n",
    "import statsmodels.api as sm # check the error that cannot import name 'factorial' in from scipy.misc import factorial\n",
    "import statsmodels.formula.api as smf\n",
    "import matplotlib.pyplot as plt\n",
    "import tensorflow as tf\n",
    "import altair as alt\n",
    "# from linearmodels.iv import IV2SLS\n",
    "from tensorflow.keras import datasets, layers, models\n",
    "from tensorflow import keras\n",
    "import arviz as az\n",
    "\n",
    "import theano\n",
    "import covid19pandas as cod\n",
    "from country_codes import eurostat_dictionary\n",
    "import eurostat\n",
    "from warnings import filterwarnings\n",
    "filterwarnings('ignore')\n",
    "from sklearn import datasets\n",
    "from sklearn.preprocessing import scale\n",
    "from sklearn.model_selection import train_test_split\n",
    "from sklearn.datasets import make_moons\n"
   ]
  },
  {
   "cell_type": "markdown",
   "id": "d0193561-79cf-4d51-a0d8-4dd93a543832",
   "metadata": {},
   "source": [
    "# For the coming week"
   ]
  },
  {
   "cell_type": "code",
   "execution_count": 2,
   "id": "a7458ec1-9094-4361-b89a-47b9501ee13b",
   "metadata": {},
   "outputs": [
    {
     "data": {
      "text/plain": [
       "<tf.Tensor: shape=(10, 3), dtype=float32, numpy=\n",
       "array([[0.5822197 , 0.5387424 , 0.26630318],\n",
       "       [0.7744324 , 0.74681294, 0.19839299],\n",
       "       [0.45301747, 0.35963297, 0.06712449],\n",
       "       [0.33345103, 0.81565404, 0.9338734 ],\n",
       "       [0.51966906, 0.2568339 , 0.5783384 ],\n",
       "       [0.5477897 , 0.30830538, 0.22824752],\n",
       "       [0.833635  , 0.5634277 , 0.54953635],\n",
       "       [0.513134  , 0.84539366, 0.9968591 ],\n",
       "       [0.57576406, 0.16925919, 0.24983215],\n",
       "       [0.93242395, 0.26701474, 0.28105092]], dtype=float32)>"
      ]
     },
     "execution_count": 2,
     "metadata": {},
     "output_type": "execute_result"
    }
   ],
   "source": [
    "tf.random.uniform([10,3],0,1) # 10 rows, three columns, numbers between 0 and 1 (uniform distribution)"
   ]
  },
  {
   "cell_type": "markdown",
   "id": "1ab00bc2-e5a5-4395-b17c-d3cd15ee6acc",
   "metadata": {},
   "source": [
    "Tensor flow gives extra information, some packages will not be able to deal with that so we use numpy to solve it"
   ]
  },
  {
   "cell_type": "code",
   "execution_count": 3,
   "id": "774a196a-245c-4b37-9320-2faee71fc830",
   "metadata": {},
   "outputs": [
    {
     "data": {
      "text/plain": [
       "array([[0.3398155 , 0.19376194, 0.8263606 ],\n",
       "       [0.764362  , 0.06753254, 0.8809341 ],\n",
       "       [0.09804225, 0.9361565 , 0.86302745],\n",
       "       [0.14658463, 0.1929028 , 0.03766143],\n",
       "       [0.7698417 , 0.9546851 , 0.85507524],\n",
       "       [0.6324817 , 0.29380524, 0.8819288 ],\n",
       "       [0.7913544 , 0.43267   , 0.8039664 ],\n",
       "       [0.4956386 , 0.59418654, 0.4084586 ],\n",
       "       [0.02316248, 0.5199573 , 0.48820138],\n",
       "       [0.8889766 , 0.55235064, 0.18013608]], dtype=float32)"
      ]
     },
     "execution_count": 3,
     "metadata": {},
     "output_type": "execute_result"
    }
   ],
   "source": [
    "tf.random.uniform([10,3],0,1).numpy()"
   ]
  },
  {
   "cell_type": "markdown",
   "id": "dee0f68c-66ef-4ef0-b297-74e4e4aab898",
   "metadata": {},
   "source": [
    "To plot random numbers we use the seaborn library "
   ]
  },
  {
   "cell_type": "code",
   "execution_count": 4,
   "id": "4fdd7cd7-16a1-4190-ad27-a53627e0d75e",
   "metadata": {},
   "outputs": [
    {
     "data": {
      "image/png": "[encoded data removed]",
      "text/plain": [
       "<Figure size 360x360 with 1 Axes>"
      ]
     },
     "metadata": {
      "needs_background": "light"
     },
     "output_type": "display_data"
    }
   ],
   "source": [
    "sn.displot(tf.random.normal([1000],10,2),kde=True);  # we simply draw 1000 numbers. We use the kernel density"
   ]
  },
  {
   "cell_type": "markdown",
   "id": "4a17e6ea-d1c9-403b-86d2-f5f0ab2fb8e4",
   "metadata": {
    "tags": []
   },
   "source": [
    "Tensor flow wants lists, that's why we have the brackets. We cannot just give it a number, because the shape"
   ]
  },
  {
   "cell_type": "code",
   "execution_count": 5,
   "id": "e2faa4d2-80be-47de-9e26-5d7e3751f13c",
   "metadata": {},
   "outputs": [
    {
     "data": {
      "text/plain": [
       "\u001b[0;31mSignature:\u001b[0m\n",
       "\u001b[0mtf\u001b[0m\u001b[0;34m.\u001b[0m\u001b[0mrandom\u001b[0m\u001b[0;34m.\u001b[0m\u001b[0mnormal\u001b[0m\u001b[0;34m(\u001b[0m\u001b[0;34m\u001b[0m\n",
       "\u001b[0;34m\u001b[0m    \u001b[0mshape\u001b[0m\u001b[0;34m,\u001b[0m\u001b[0;34m\u001b[0m\n",
       "\u001b[0;34m\u001b[0m    \u001b[0mmean\u001b[0m\u001b[0;34m=\u001b[0m\u001b[0;36m0.0\u001b[0m\u001b[0;34m,\u001b[0m\u001b[0;34m\u001b[0m\n",
       "\u001b[0;34m\u001b[0m    \u001b[0mstddev\u001b[0m\u001b[0;34m=\u001b[0m\u001b[0;36m1.0\u001b[0m\u001b[0;34m,\u001b[0m\u001b[0;34m\u001b[0m\n",
       "\u001b[0;34m\u001b[0m    \u001b[0mdtype\u001b[0m\u001b[0;34m=\u001b[0m\u001b[0mtf\u001b[0m\u001b[0;34m.\u001b[0m\u001b[0mfloat32\u001b[0m\u001b[0;34m,\u001b[0m\u001b[0;34m\u001b[0m\n",
       "\u001b[0;34m\u001b[0m    \u001b[0mseed\u001b[0m\u001b[0;34m=\u001b[0m\u001b[0;32mNone\u001b[0m\u001b[0;34m,\u001b[0m\u001b[0;34m\u001b[0m\n",
       "\u001b[0;34m\u001b[0m    \u001b[0mname\u001b[0m\u001b[0;34m=\u001b[0m\u001b[0;32mNone\u001b[0m\u001b[0;34m,\u001b[0m\u001b[0;34m\u001b[0m\n",
       "\u001b[0;34m\u001b[0m\u001b[0;34m)\u001b[0m\u001b[0;34m\u001b[0m\u001b[0;34m\u001b[0m\u001b[0m\n",
       "\u001b[0;31mDocstring:\u001b[0m\n",
       "Outputs random values from a normal distribution.\n",
       "\n",
       "Example that generates a new set of random values every time:\n",
       "\n",
       ">>> tf.random.set_seed(5);\n",
       ">>> tf.random.normal([4], 0, 1, tf.float32)\n",
       "<tf.Tensor: shape=(4,), dtype=float32, numpy=..., dtype=float32)>\n",
       "\n",
       "Example that outputs a reproducible result:\n",
       "\n",
       ">>> tf.random.set_seed(5);\n",
       ">>> tf.random.normal([2,2], 0, 1, tf.float32, seed=1)\n",
       "<tf.Tensor: shape=(2, 2), dtype=float32, numpy=\n",
       "array([[-1.3768897 , -0.01258316],\n",
       "      [-0.169515   ,  1.0824056 ]], dtype=float32)>\n",
       "\n",
       "In this case, we are setting both the global and operation-level seed to\n",
       "ensure this result is reproducible.  See `tf.random.set_seed` for more\n",
       "information.\n",
       "\n",
       "Args:\n",
       "  shape: A 1-D integer Tensor or Python array. The shape of the output tensor.\n",
       "  mean: A Tensor or Python value of type `dtype`, broadcastable with `stddev`.\n",
       "    The mean of the normal distribution.\n",
       "  stddev: A Tensor or Python value of type `dtype`, broadcastable with `mean`.\n",
       "    The standard deviation of the normal distribution.\n",
       "  dtype: The type of the output.\n",
       "  seed: A Python integer. Used to create a random seed for the distribution.\n",
       "    See\n",
       "    `tf.random.set_seed`\n",
       "    for behavior.\n",
       "  name: A name for the operation (optional).\n",
       "\n",
       "Returns:\n",
       "  A tensor of the specified shape filled with random normal values.\n",
       "\u001b[0;31mFile:\u001b[0m      /opt/conda/lib/python3.9/site-packages/tensorflow/python/ops/random_ops.py\n",
       "\u001b[0;31mType:\u001b[0m      function\n"
      ]
     },
     "metadata": {},
     "output_type": "display_data"
    }
   ],
   "source": [
    "tf.random.normal?"
   ]
  },
  {
   "cell_type": "code",
   "execution_count": 6,
   "id": "1f7ebd4a-3bf1-4160-a606-8781f1a81a06",
   "metadata": {},
   "outputs": [
    {
     "data": {
      "text/plain": [
       "array([[ 0.90609473,  1.61021274, -0.76138941],\n",
       "       [ 1.14647825,  0.25079754, -0.93771358],\n",
       "       [ 0.55206273, -0.77842677, -0.84789581],\n",
       "       [-1.47037317, -1.70797292,  0.62900713],\n",
       "       [-2.32258143,  0.99738896,  0.95282367],\n",
       "       [ 0.4410335 ,  0.53006234,  1.33354131],\n",
       "       [-1.47601063, -0.00770151,  0.14826916],\n",
       "       [ 0.5345377 ,  0.70909943,  1.24706867],\n",
       "       [-0.30294137, -0.70238383,  1.19952675],\n",
       "       [-0.48004673, -1.33250523,  1.63499171]])"
      ]
     },
     "execution_count": 6,
     "metadata": {},
     "output_type": "execute_result"
    }
   ],
   "source": [
    "pm.Normal.dist(0,1).random(size=(10,3)) #first mean of the normal distribution, then std dev, random and specify the size"
   ]
  },
  {
   "cell_type": "markdown",
   "id": "f6af5995-ac40-4048-a047-a7366098caf2",
   "metadata": {},
   "source": [
    "In this case it doesn't need a list"
   ]
  },
  {
   "cell_type": "code",
   "execution_count": 7,
   "id": "40711dbb-292c-4b7f-9202-01e792d1a9b4",
   "metadata": {},
   "outputs": [
    {
     "data": {
      "text/plain": [
       "array([[ 0.79628663, -1.11471802,  1.04168139],\n",
       "       [ 1.52428018, -0.83513784, -0.42471708],\n",
       "       [-0.59221064,  0.45904794, -0.21720081],\n",
       "       [ 0.94940076,  2.80823644, -0.26144845],\n",
       "       [ 1.0909079 , -0.13381449,  0.91719975],\n",
       "       [-0.80716507,  0.0554971 , -0.47825728],\n",
       "       [ 0.44628944, -1.87232916, -0.45058256],\n",
       "       [ 0.36780625, -0.44086309,  1.5542247 ],\n",
       "       [-0.22499378,  0.47493031,  0.27027528],\n",
       "       [-1.44329517, -1.16390986, -0.31111829]])"
      ]
     },
     "execution_count": 7,
     "metadata": {},
     "output_type": "execute_result"
    }
   ],
   "source": [
    "np.random.normal(0,1,size=(10,3))"
   ]
  },
  {
   "cell_type": "markdown",
   "id": "f49f0e1b-7aa0-4f0c-9d88-292614586802",
   "metadata": {},
   "source": [
    "Now, we start building simple models with this random variables"
   ]
  },
  {
   "cell_type": "code",
   "execution_count": 8,
   "id": "8a069f8a-5d84-4588-bea7-f019b3f65bf2",
   "metadata": {},
   "outputs": [
    {
     "data": {
      "image/png": "[encoded data removed]",
      "text/plain": [
       "<Figure size 432x288 with 1 Axes>"
      ]
     },
     "metadata": {
      "needs_background": "light"
     },
     "output_type": "display_data"
    }
   ],
   "source": [
    "x = np.random.normal(0,1,size=(100,1))\n",
    "y = 3*x + 5 + np.random.normal(0,1,size=(100,1))\n",
    "plt.plot(x,y,'bo');"
   ]
  },
  {
   "cell_type": "code",
   "execution_count": 9,
   "id": "088889ee-1077-4901-a2a9-2449c6bfea47",
   "metadata": {},
   "outputs": [
    {
     "name": "stdout",
     "output_type": "stream",
     "text": [
      "the fitted constant is 5.03 and the fitted slope equals 3.02\n"
     ]
    }
   ],
   "source": [
    "model = sm.OLS(y,sm.add_constant(x))\n",
    "print(\"the fitted constant is {:.2f} and the fitted slope equals {:.2f}\".format(*model.fit().params))"
   ]
  },
  {
   "cell_type": "markdown",
   "id": "e201844c-6ded-4828-b439-6d95afe6b214",
   "metadata": {},
   "source": [
    "{} aloows you to introduce digits on your strings and format them"
   ]
  },
  {
   "cell_type": "code",
   "execution_count": 10,
   "id": "1c18779e-0bd5-4e0e-acd2-4ec8c968f6e8",
   "metadata": {},
   "outputs": [
    {
     "data": {
      "text/plain": [
       "array([5.03494922, 3.01732122])"
      ]
     },
     "execution_count": 10,
     "metadata": {},
     "output_type": "execute_result"
    }
   ],
   "source": [
    "model.fit().params"
   ]
  },
  {
   "cell_type": "markdown",
   "id": "280adea0-5058-42a7-afbd-292f8b0c318b",
   "metadata": {},
   "source": [
    "you call the fit method for the model. And specify what I want to see are the parameters"
   ]
  },
  {
   "cell_type": "code",
   "execution_count": 11,
   "id": "151610af-bbbe-451c-8a9e-252f8f08b2f2",
   "metadata": {},
   "outputs": [
    {
     "name": "stdout",
     "output_type": "stream",
     "text": [
      "[5.03494922 3.01732122]\n"
     ]
    }
   ],
   "source": [
    "print(\"{}\".format(model.fit().params))"
   ]
  },
  {
   "cell_type": "markdown",
   "id": "50251a84-ba05-4ae7-a27f-e31ab41147cc",
   "metadata": {},
   "source": [
    "If I don't have the star, it will give us the list. If you add * it will split up the numbers"
   ]
  },
  {
   "cell_type": "code",
   "execution_count": 12,
   "id": "9718b674-cc64-4114-8812-43b23d53419e",
   "metadata": {},
   "outputs": [
    {
     "data": {
      "text/html": [
       "<table class=\"simpletable\">\n",
       "<caption>OLS Regression Results</caption>\n",
       "<tr>\n",
       "  <th>Dep. Variable:</th>            <td>y</td>        <th>  R-squared:         </th> <td>   0.906</td>\n",
       "</tr>\n",
       "<tr>\n",
       "  <th>Model:</th>                   <td>OLS</td>       <th>  Adj. R-squared:    </th> <td>   0.905</td>\n",
       "</tr>\n",
       "<tr>\n",
       "  <th>Method:</th>             <td>Least Squares</td>  <th>  F-statistic:       </th> <td>   949.1</td>\n",
       "</tr>\n",
       "<tr>\n",
       "  <th>Date:</th>             <td>Tue, 19 Mar 2024</td> <th>  Prob (F-statistic):</th> <td>3.29e-52</td>\n",
       "</tr>\n",
       "<tr>\n",
       "  <th>Time:</th>                 <td>08:41:12</td>     <th>  Log-Likelihood:    </th> <td> -132.70</td>\n",
       "</tr>\n",
       "<tr>\n",
       "  <th>No. Observations:</th>      <td>   100</td>      <th>  AIC:               </th> <td>   269.4</td>\n",
       "</tr>\n",
       "<tr>\n",
       "  <th>Df Residuals:</th>          <td>    98</td>      <th>  BIC:               </th> <td>   274.6</td>\n",
       "</tr>\n",
       "<tr>\n",
       "  <th>Df Model:</th>              <td>     1</td>      <th>                     </th>     <td> </td>   \n",
       "</tr>\n",
       "<tr>\n",
       "  <th>Covariance Type:</th>      <td>nonrobust</td>    <th>                     </th>     <td> </td>   \n",
       "</tr>\n",
       "</table>\n",
       "<table class=\"simpletable\">\n",
       "<tr>\n",
       "    <td></td>       <th>coef</th>     <th>std err</th>      <th>t</th>      <th>P>|t|</th>  <th>[0.025</th>    <th>0.975]</th>  \n",
       "</tr>\n",
       "<tr>\n",
       "  <th>const</th> <td>    5.0349</td> <td>    0.093</td> <td>   53.962</td> <td> 0.000</td> <td>    4.850</td> <td>    5.220</td>\n",
       "</tr>\n",
       "<tr>\n",
       "  <th>x1</th>    <td>    3.0173</td> <td>    0.098</td> <td>   30.807</td> <td> 0.000</td> <td>    2.823</td> <td>    3.212</td>\n",
       "</tr>\n",
       "</table>\n",
       "<table class=\"simpletable\">\n",
       "<tr>\n",
       "  <th>Omnibus:</th>       <td> 3.885</td> <th>  Durbin-Watson:     </th> <td>   2.016</td>\n",
       "</tr>\n",
       "<tr>\n",
       "  <th>Prob(Omnibus):</th> <td> 0.143</td> <th>  Jarque-Bera (JB):  </th> <td>   2.875</td>\n",
       "</tr>\n",
       "<tr>\n",
       "  <th>Skew:</th>          <td> 0.271</td> <th>  Prob(JB):          </th> <td>   0.238</td>\n",
       "</tr>\n",
       "<tr>\n",
       "  <th>Kurtosis:</th>      <td> 2.370</td> <th>  Cond. No.          </th> <td>    1.18</td>\n",
       "</tr>\n",
       "</table><br/><br/>Notes:<br/>[1] Standard Errors assume that the covariance matrix of the errors is correctly specified."
      ],
      "text/plain": [
       "<class 'statsmodels.iolib.summary.Summary'>\n",
       "\"\"\"\n",
       "                            OLS Regression Results                            \n",
       "==============================================================================\n",
       "Dep. Variable:                      y   R-squared:                       0.906\n",
       "Model:                            OLS   Adj. R-squared:                  0.905\n",
       "Method:                 Least Squares   F-statistic:                     949.1\n",
       "Date:                Tue, 19 Mar 2024   Prob (F-statistic):           3.29e-52\n",
       "Time:                        08:41:12   Log-Likelihood:                -132.70\n",
       "No. Observations:                 100   AIC:                             269.4\n",
       "Df Residuals:                      98   BIC:                             274.6\n",
       "Df Model:                           1                                         \n",
       "Covariance Type:            nonrobust                                         \n",
       "==============================================================================\n",
       "                 coef    std err          t      P>|t|      [0.025      0.975]\n",
       "------------------------------------------------------------------------------\n",
       "const          5.0349      0.093     53.962      0.000       4.850       5.220\n",
       "x1             3.0173      0.098     30.807      0.000       2.823       3.212\n",
       "==============================================================================\n",
       "Omnibus:                        3.885   Durbin-Watson:                   2.016\n",
       "Prob(Omnibus):                  0.143   Jarque-Bera (JB):                2.875\n",
       "Skew:                           0.271   Prob(JB):                        0.238\n",
       "Kurtosis:                       2.370   Cond. No.                         1.18\n",
       "==============================================================================\n",
       "\n",
       "Notes:\n",
       "[1] Standard Errors assume that the covariance matrix of the errors is correctly specified.\n",
       "\"\"\""
      ]
     },
     "execution_count": 12,
     "metadata": {},
     "output_type": "execute_result"
    }
   ],
   "source": [
    "model.fit().summary()"
   ]
  },
  {
   "cell_type": "code",
   "execution_count": 13,
   "id": "04a5516b-6f67-4786-a694-98d7cc52197a",
   "metadata": {},
   "outputs": [
    {
     "data": {
      "text/plain": [
       "      fun: 83.19775819472221\n",
       " hess_inv: array([[0.00512735, 0.00084825],\n",
       "       [0.00084825, 0.00564986]])\n",
       "      jac: array([9.53674316e-07, 1.90734863e-06])\n",
       "  message: 'Optimization terminated successfully.'\n",
       "     nfev: 27\n",
       "      nit: 6\n",
       "     njev: 9\n",
       "   status: 0\n",
       "  success: True\n",
       "        x: array([5.03494921, 3.01732122])"
      ]
     },
     "execution_count": 13,
     "metadata": {},
     "output_type": "execute_result"
    }
   ],
   "source": [
    "def loss(beta):\n",
    "    y_pred = beta[0] + beta[1]*x\n",
    "    return np.sum((y-y_pred)**2)\n",
    "optimize.minimize(loss,[0,0])"
   ]
  },
  {
   "cell_type": "code",
   "execution_count": 14,
   "id": "3411f5b8-a971-4ace-9a1f-35efc6f6fd63",
   "metadata": {},
   "outputs": [
    {
     "data": {
      "image/png": "[encoded data removed]",
      "text/plain": [
       "<Figure size 432x288 with 1 Axes>"
      ]
     },
     "metadata": {
      "needs_background": "light"
     },
     "output_type": "display_data"
    }
   ],
   "source": [
    "beta = optimize.minimize(loss,[0,0]).x\n",
    "range_x = np.arange(-3,4)\n",
    "plt.plot(range_x, [beta[0]+beta[1]*x for x in range_x],color='red')\n",
    "\n",
    "plt.plot(x,y,'bo'); "
   ]
  },
  {
   "cell_type": "code",
   "execution_count": 15,
   "id": "c9971a80-6e00-47e3-a7cf-8222bae38aad",
   "metadata": {},
   "outputs": [
    {
     "data": {
      "text/plain": [
       "5.034949214660182"
      ]
     },
     "execution_count": 15,
     "metadata": {},
     "output_type": "execute_result"
    }
   ],
   "source": [
    "beta = optimize.minimize(loss,[0,0]).x\n",
    "beta[0]"
   ]
  },
  {
   "cell_type": "markdown",
   "id": "f2833306-1b78-48d6-aaba-12c96c0c9b32",
   "metadata": {},
   "source": [
    "Increasing noise, by changing the std dev. If I increase the std dev in my error term, statistical significanc eof the coefficient decreases. "
   ]
  },
  {
   "cell_type": "markdown",
   "id": "abe22726-9949-4376-b35e-af2393010045",
   "metadata": {},
   "source": [
    "\n",
    "Problem: give a sense of the uncertainty surounding the slope. How sensitive the slope is to my data. I want to have a distribution of slopes\n",
    "- to do so, we use iteration and generate new data \n",
    "- we add x and y to the definition of loss"
   ]
  },
  {
   "cell_type": "code",
   "execution_count": 16,
   "id": "a25b85f7-4aa3-40ed-8ebb-ff7a7e2705fb",
   "metadata": {},
   "outputs": [],
   "source": [
    "def loss(beta,x,y):\n",
    "    y_pred = beta[0] + beta[1]*x\n",
    "    return np.sum((y-y_pred)**2)\n",
    "slopes = []\n",
    "for i in np.arange(1000):\n",
    "    x = np.random.normal(0,1,size=(100,1))\n",
    "    y = 3*x + 5 + np.random.normal(10,5,size=(100,1))\n",
    "    beta = optimize.minimize(lambda beta: loss(beta,x,y),[0,0]).x #lambda function is an annonymous function that tells python that when it comes across beta,x,y, it should think as a function of only beta). Starting point is 0,0. The x we use in '.x' has nothing to do with our data x.\n",
    "#now, gather toghether all the slopes we have\n",
    "    slopes.append(beta[1]) # if we were interested in constants, we would change it to beta[0]\n"
   ]
  },
  {
   "cell_type": "markdown",
   "id": "59ef38b0-e0bf-44e1-9ebb-ef80e00feeea",
   "metadata": {},
   "source": []
  },
  {
   "cell_type": "code",
   "execution_count": 17,
   "id": "ecc6bc77-67b5-4055-b513-c73f57f4f258",
   "metadata": {},
   "outputs": [
    {
     "data": {
      "text/plain": [
       "<seaborn.axisgrid.FacetGrid at 0x7fa7f83845b0>"
      ]
     },
     "execution_count": 17,
     "metadata": {},
     "output_type": "execute_result"
    },
    {
     "data": {
      "image/png": "[encoded data removed]",
      "text/plain": [
       "<Figure size 360x360 with 1 Axes>"
      ]
     },
     "metadata": {
      "needs_background": "light"
     },
     "output_type": "display_data"
    }
   ],
   "source": [
    "sn.displot(slopes,kde=True)"
   ]
  },
  {
   "cell_type": "markdown",
   "id": "ac9e4684-e2b2-439d-9bdd-affb90559536",
   "metadata": {},
   "source": [
    "How likely is it that the slope is higher than 3.5?"
   ]
  },
  {
   "cell_type": "code",
   "execution_count": 18,
   "id": "a5eb3833-e000-41f6-a45c-8f76926ef2db",
   "metadata": {},
   "outputs": [
    {
     "data": {
      "text/plain": [
       "0.159"
      ]
     },
     "execution_count": 18,
     "metadata": {},
     "output_type": "execute_result"
    }
   ],
   "source": [
    "np.sum(np.array(slopes)> 3.5)/len(slopes) #In each element of the array It will check wether slope is bigger than 3.5. Even if we know that len is 1000, it's better not to use the numebr because it limits replication"
   ]
  },
  {
   "cell_type": "code",
   "execution_count": null,
   "id": "b747a961-3fa9-46f2-ae60-fcd4a6b9d20d",
   "metadata": {},
   "outputs": [],
   "source": []
  }
 ],
 "metadata": {
  "kernelspec": {
   "display_name": "Python 3 (ipykernel)",
   "language": "python",
   "name": "python3"
  },
  "language_info": {
   "codemirror_mode": {
    "name": "ipython",
    "version": 3
   },
   "file_extension": ".py",
   "mimetype": "text/x-python",
   "name": "python",
   "nbconvert_exporter": "python",
   "pygments_lexer": "ipython3",
   "version": "3.9.7"
  }
 },
 "nbformat": 4,
 "nbformat_minor": 5
}
