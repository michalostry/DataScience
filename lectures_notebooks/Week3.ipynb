{
 "cells": [
  {
   "cell_type": "markdown",
   "id": "ed7d6952-0d6c-40ea-ad95-a17962538b25",
   "metadata": {},
   "source": [
    "# week 3"
   ]
  },
  {
   "cell_type": "code",
   "execution_count": 1,
   "id": "a6b7f34c-8bc3-4045-9fcb-1a811280c580",
   "metadata": {},
   "outputs": [
    {
     "ename": "ModuleNotFoundError",
     "evalue": "No module named 'country_codes'",
     "output_type": "error",
     "traceback": [
      "\u001b[0;31m---------------------------------------------------------------------------\u001b[0m",
      "\u001b[0;31mModuleNotFoundError\u001b[0m                       Traceback (most recent call last)",
      "Input \u001b[0;32mIn [1]\u001b[0m, in \u001b[0;36m<module>\u001b[0;34m\u001b[0m\n\u001b[1;32m     18\u001b[0m \u001b[38;5;28;01mimport\u001b[39;00m \u001b[38;5;21;01mtheano\u001b[39;00m\n\u001b[1;32m     19\u001b[0m \u001b[38;5;28;01mimport\u001b[39;00m \u001b[38;5;21;01mcovid19pandas\u001b[39;00m \u001b[38;5;28;01mas\u001b[39;00m \u001b[38;5;21;01mcod\u001b[39;00m\n\u001b[0;32m---> 20\u001b[0m \u001b[38;5;28;01mfrom\u001b[39;00m \u001b[38;5;21;01mcountry_codes\u001b[39;00m \u001b[38;5;28;01mimport\u001b[39;00m eurostat_dictionary\n\u001b[1;32m     21\u001b[0m \u001b[38;5;28;01mimport\u001b[39;00m \u001b[38;5;21;01meurostat\u001b[39;00m\n\u001b[1;32m     22\u001b[0m \u001b[38;5;28;01mfrom\u001b[39;00m \u001b[38;5;21;01mwarnings\u001b[39;00m \u001b[38;5;28;01mimport\u001b[39;00m filterwarnings\n",
      "\u001b[0;31mModuleNotFoundError\u001b[0m: No module named 'country_codes'"
     ]
    }
   ],
   "source": [
    "from __future__ import absolute_import, division, print_function, unicode_literals\n",
    "\n",
    "import numpy as np\n",
    "import pandas as pd\n",
    "import seaborn as sn\n",
    "from scipy import optimize\n",
    "import pymc3 as pm\n",
    "import statsmodels.api as sm # check the error that cannot import name 'factorial' in from scipy.misc import factorial\n",
    "import statsmodels.formula.api as smf\n",
    "import matplotlib.pyplot as plt\n",
    "import tensorflow as tf\n",
    "import altair as alt\n",
    "# from linearmodels.iv import IV2SLS\n",
    "from tensorflow.keras import datasets, layers, models\n",
    "from tensorflow import keras\n",
    "import arviz as az\n",
    "\n",
    "import theano\n",
    "import covid19pandas as cod\n",
    "from country_codes import eurostat_dictionary\n",
    "import eurostat\n",
    "from warnings import filterwarnings\n",
    "filterwarnings('ignore')\n",
    "from sklearn import datasets\n",
    "from sklearn.preprocessing import scale\n",
    "from sklearn.model_selection import train_test_split\n",
    "from sklearn.datasets import make_moons"
   ]
  },
  {
   "cell_type": "markdown",
   "id": "4c8f1013-f384-4131-94d9-ddda9a91a514",
   "metadata": {},
   "source": [
    "## ridge/lasso regressions"
   ]
  },
  {
   "cell_type": "markdown",
   "id": "d63b9e8d-8507-4793-a9e9-decb134ad4d3",
   "metadata": {},
   "source": [
    "* Lasso regressions"
   ]
  },
  {
   "cell_type": "markdown",
   "id": "83e33c2f-82cc-413c-ac50-6bc6df03535e",
   "metadata": {},
   "source": [
    "what OLS does is choose the slope of the paramteters to minimize the squared errors.\n",
    "The idea of lazzo regressions is that it changes the minimization problem , it's still (Y_i - beta_x^2) + a penalty term with lambda. On the penalty we want all our parameters to be 0. \n"
   ]
  },
  {
   "cell_type": "code",
   "execution_count": 3,
   "id": "71881ed2-b4c1-457b-a786-864124882e9a",
   "metadata": {},
   "outputs": [],
   "source": [
    "def loss_lasso (w,λ,X,y):\n",
    "    loss = np.sum((np.dot(X,w)-y)**2)/len(y) + λ*np.sum(np.abs(w))\n",
    "    return loss"
   ]
  },
  {
   "cell_type": "markdown",
   "id": "41176992-b7ed-4b43-b4e4-dc05fbab9faa",
   "metadata": {},
   "source": [
    "we standarize the sum of squared errros by the number of observations we have (the lenght of y). If lambda is equal to zero we would have an ols."
   ]
  },
  {
   "cell_type": "code",
   "execution_count": 5,
   "id": "8ed144f1-dae6-4037-a0bc-76581389642e",
   "metadata": {},
   "outputs": [
    {
     "data": {
      "image/png": "[encoded data removed]",
      "text/plain": [
       "<Figure size 432x288 with 1 Axes>"
      ]
     },
     "metadata": {
      "needs_background": "light"
     },
     "output_type": "display_data"
    }
   ],
   "source": [
    "lasso_variables = []\n",
    "penalty = 1.0\n",
    "nobs = 100 #100 observations\n",
    "for i in range(100): #repeat experiment 100 times\n",
    "    X0=np.random.random((nobs,20)) #generated random random variables. IT's important to standarize the variables, rnaodm random generates numbers between 0 and 1. the matrix has 100 obs and 20 variables\n",
    "    X =np.c_[np.ones((nobs,1)),X0] #add the constant. create a vector that consists just of 1\n",
    "    beta = np.zeros(21) # the outcome should be that no variables are included in my model\n",
    "    e = np.random.random(nobs) # Generate a noise term. Just a vector of errors, not a matrix\n",
    "    y = np.dot(X,beta) + e\n",
    "    results= optimize.minimize(lambda w: loss_lasso(w,penalty,X,y),np.zeros(X.shape[1])) # initial guess is that they are zero\n",
    "    lasso_variables.append(np.sum(np.abs(results.x))) #if one of the coefficient is not zero, the sum would show it.\n",
    "plt.hist(lasso_variables,bins=7);"
   ]
  },
  {
   "cell_type": "markdown",
   "id": "a6ed58b2-d2ee-4707-acac-8f9e81e1e197",
   "metadata": {},
   "source": [
    "All the coefficients are equal to 0. "
   ]
  },
  {
   "cell_type": "markdown",
   "id": "4c3be2f3-0138-4360-af53-f58427290172",
   "metadata": {},
   "source": [
    "Program a lambda that is too high and shows that it's wrong what the lasso regressions does. "
   ]
  },
  {
   "cell_type": "code",
   "execution_count": 6,
   "id": "b53a97b2-39c6-4c6f-86b7-c819b8a69b3f",
   "metadata": {},
   "outputs": [
    {
     "data": {
      "image/png": "[encoded data removed]",
      "text/plain": [
       "<Figure size 432x288 with 1 Axes>"
      ]
     },
     "metadata": {
      "needs_background": "light"
     },
     "output_type": "display_data"
    }
   ],
   "source": [
    "lasso_variables = []\n",
    "penalty = 20.0\n",
    "nobs = 100 #100 observations\n",
    "for i in range(100): #repeat experiment 100 times\n",
    "    X0=np.random.random((nobs,20)) #generated random random variables. IT's important to standarize the variables, rnaodm random generates numbers between 0 and 1. the matrix has 100 obs and 20 variables\n",
    "    X =np.c_[np.ones((nobs,1)),X0] #add the constant. create a vector that consists just of 1\n",
    "    beta[1] = 1.0 # set the second beta to 1\n",
    "    e = np.random.random(nobs) # Generate a noise term. Just a vector of errors, not a matrix\n",
    "    y = np.dot(X,beta) + e\n",
    "    results= optimize.minimize(lambda w: loss_lasso(w,penalty,X,y),np.zeros(X.shape[1])) # initial guess is that they are zero\n",
    "    lasso_variables.append(np.sum(np.abs(results.x))) #if one of the coefficient is not zero, the sum would show it.\n",
    "plt.hist(lasso_variables,bins=7);"
   ]
  },
  {
   "cell_type": "markdown",
   "id": "cc39cd8c-ec03-4b78-a2fa-34718c6038b5",
   "metadata": {},
   "source": [
    "There are important causal relationship between the variabels that are droped out in the ridge or lasso regression. \n",
    "Lambda is a hyperparameter: it affects your model but is not estimate. You have to choose it wisely, you set it and it will have an effect on the outcome.\n",
    "We split up the data into a training and a test set. We estimate in the training set.\n",
    "A lasso regression never gives you the betas you are interested in. The lasso step only functions in selection your variables. You then use the variables in a normal regression without a penalty term. "
   ]
  },
  {
   "cell_type": "code",
   "execution_count": 7,
   "id": "91c5a627-c4df-4060-bdd8-f0be58180f39",
   "metadata": {},
   "outputs": [
    {
     "data": {
      "text/plain": [
       "array([[0, 1, 2],\n",
       "       [3, 4, 5]])"
      ]
     },
     "execution_count": 7,
     "metadata": {},
     "output_type": "execute_result"
    }
   ],
   "source": [
    "x = np.arange(6).reshape(2,3)\n",
    "x"
   ]
  },
  {
   "cell_type": "markdown",
   "id": "fb54b895-f5f4-4d3e-bf22-3fe9b447df17",
   "metadata": {},
   "source": [
    "if I want to add a column 1,1"
   ]
  },
  {
   "cell_type": "code",
   "execution_count": 8,
   "id": "c4ae5629-793f-4a11-8ab5-446a7ccb9626",
   "metadata": {},
   "outputs": [
    {
     "data": {
      "text/plain": [
       "array([[1., 0., 1., 2.],\n",
       "       [1., 3., 4., 5.]])"
      ]
     },
     "execution_count": 8,
     "metadata": {},
     "output_type": "execute_result"
    }
   ],
   "source": [
    "np.c_[np.ones(2),x]"
   ]
  },
  {
   "cell_type": "code",
   "execution_count": 9,
   "id": "5b9100ed-1251-488d-8094-6ff824c9c9a9",
   "metadata": {},
   "outputs": [
    {
     "data": {
      "text/plain": [
       "array([1., 1.])"
      ]
     },
     "execution_count": 9,
     "metadata": {},
     "output_type": "execute_result"
    }
   ],
   "source": [
    "np.ones(2)"
   ]
  },
  {
   "cell_type": "markdown",
   "id": "5b90378d-1edc-43ca-b226-8b693d9d2bfa",
   "metadata": {},
   "source": [
    "* Ridge"
   ]
  },
  {
   "cell_type": "code",
   "execution_count": 12,
   "id": "9750d912-2865-4b29-a783-c5d37daedb17",
   "metadata": {},
   "outputs": [
    {
     "data": {
      "image/png": "[encoded data removed]",
      "text/plain": [
       "<Figure size 432x288 with 1 Axes>"
      ]
     },
     "metadata": {
      "needs_background": "light"
     },
     "output_type": "display_data"
    }
   ],
   "source": [
    "def loss_ridge (w,λ,X,y):\n",
    "    loss = np.sum((np.dot(X,w)-y)**2)/len(y) + λ*np.sum(w**2)\n",
    "    return loss\n",
    "\n",
    "ridge_variables = []\n",
    "penalty = 1.0\n",
    "nobs = 100 #100 observations\n",
    "for i in range(100): #repeat experiment 100 times\n",
    "    X0=np.random.random((nobs,20)) #generated random random variables. IT's important to standarize the variables, rnaodm random generates numbers between 0 and 1. the matrix has 100 obs and 20 variables\n",
    "    X =np.c_[np.ones((nobs,1)),X0] #add the constant. create a vector that consists just of 1\n",
    "    beta = np.zeros(21) # the outcome should be that no variables are included in my model\n",
    "    e = np.random.random(nobs) # Generate a noise term. Just a vector of errors, not a matrix\n",
    "    y = np.dot(X,beta) + e\n",
    "    results= optimize.minimize(lambda w: loss_ridge(w,penalty,X,y),np.zeros(X.shape[1])) # initial guess is that they are zero\n",
    "    ridge_variables.append(np.sum(np.abs(results.x))) #if one of the coefficient is not zero, the sum would show it.\n",
    "plt.hist(ridge_variables,bins=7);"
   ]
  },
  {
   "cell_type": "code",
   "execution_count": null,
   "id": "5b62aae9-7098-4d24-94b4-39ad5553ac78",
   "metadata": {},
   "outputs": [],
   "source": []
  },
  {
   "cell_type": "markdown",
   "id": "2e4ceb49-8ae0-44a2-a6ee-fc3c0f225d67",
   "metadata": {},
   "source": [
    "## Causal reasoning"
   ]
  },
  {
   "cell_type": "code",
   "execution_count": null,
   "id": "9bc0468d-47de-43ac-8988-770d696e8675",
   "metadata": {},
   "outputs": [],
   "source": [
    "* Fork"
   ]
  },
  {
   "cell_type": "markdown",
   "id": "6cfe2ff8-0ee9-4638-b2f5-a0176625c5d0",
   "metadata": {},
   "source": [
    "We have x and y. They are both affected by z. "
   ]
  },
  {
   "cell_type": "code",
   "execution_count": 14,
   "id": "8ef30ad9-cef6-481d-b0d0-2d57ed5e8502",
   "metadata": {},
   "outputs": [
    {
     "data": {
      "text/html": [
       "<div>\n",
       "<style scoped>\n",
       "    .dataframe tbody tr th:only-of-type {\n",
       "        vertical-align: middle;\n",
       "    }\n",
       "\n",
       "    .dataframe tbody tr th {\n",
       "        vertical-align: top;\n",
       "    }\n",
       "\n",
       "    .dataframe thead th {\n",
       "        text-align: right;\n",
       "    }\n",
       "</style>\n",
       "<table border=\"1\" class=\"dataframe\">\n",
       "  <thead>\n",
       "    <tr style=\"text-align: right;\">\n",
       "      <th></th>\n",
       "      <th>x</th>\n",
       "      <th>y</th>\n",
       "      <th>z</th>\n",
       "    </tr>\n",
       "  </thead>\n",
       "  <tbody>\n",
       "    <tr>\n",
       "      <th>0</th>\n",
       "      <td>-2.298771</td>\n",
       "      <td>-0.217575</td>\n",
       "      <td>-1.368554</td>\n",
       "    </tr>\n",
       "    <tr>\n",
       "      <th>1</th>\n",
       "      <td>0.983712</td>\n",
       "      <td>1.735317</td>\n",
       "      <td>0.251566</td>\n",
       "    </tr>\n",
       "    <tr>\n",
       "      <th>2</th>\n",
       "      <td>-0.889506</td>\n",
       "      <td>-0.716911</td>\n",
       "      <td>-0.368550</td>\n",
       "    </tr>\n",
       "    <tr>\n",
       "      <th>3</th>\n",
       "      <td>-0.549896</td>\n",
       "      <td>0.348785</td>\n",
       "      <td>-0.597165</td>\n",
       "    </tr>\n",
       "    <tr>\n",
       "      <th>4</th>\n",
       "      <td>-3.319556</td>\n",
       "      <td>1.364140</td>\n",
       "      <td>-1.699088</td>\n",
       "    </tr>\n",
       "  </tbody>\n",
       "</table>\n",
       "</div>"
      ],
      "text/plain": [
       "          x         y         z\n",
       "0 -2.298771 -0.217575 -1.368554\n",
       "1  0.983712  1.735317  0.251566\n",
       "2 -0.889506 -0.716911 -0.368550\n",
       "3 -0.549896  0.348785 -0.597165\n",
       "4 -3.319556  1.364140 -1.699088"
      ]
     },
     "execution_count": 14,
     "metadata": {},
     "output_type": "execute_result"
    }
   ],
   "source": [
    "n = 100\n",
    "z = np.random.normal(0,1,size=n)\n",
    "x= 2*z + np.random.normal(0,1,size=n)\n",
    "y= -1*z + np.random.normal(0,1,size=n)\n",
    "data = pd.DataFrame({'x': x, 'y': y, 'z' : z})\n",
    "data.head()"
   ]
  },
  {
   "cell_type": "code",
   "execution_count": 15,
   "id": "a3ea1006-db6b-40d7-bc70-f606aa4bf4bf",
   "metadata": {},
   "outputs": [
    {
     "data": {
      "text/html": [
       "<table class=\"simpletable\">\n",
       "<caption>OLS Regression Results</caption>\n",
       "<tr>\n",
       "  <th>Dep. Variable:</th>            <td>y</td>        <th>  R-squared:         </th> <td>   0.417</td>\n",
       "</tr>\n",
       "<tr>\n",
       "  <th>Model:</th>                   <td>OLS</td>       <th>  Adj. R-squared:    </th> <td>   0.411</td>\n",
       "</tr>\n",
       "<tr>\n",
       "  <th>Method:</th>             <td>Least Squares</td>  <th>  F-statistic:       </th> <td>   70.22</td>\n",
       "</tr>\n",
       "<tr>\n",
       "  <th>Date:</th>             <td>Thu, 22 Feb 2024</td> <th>  Prob (F-statistic):</th> <td>3.91e-13</td>\n",
       "</tr>\n",
       "<tr>\n",
       "  <th>Time:</th>                 <td>11:15:44</td>     <th>  Log-Likelihood:    </th> <td> -156.82</td>\n",
       "</tr>\n",
       "<tr>\n",
       "  <th>No. Observations:</th>      <td>   100</td>      <th>  AIC:               </th> <td>   317.6</td>\n",
       "</tr>\n",
       "<tr>\n",
       "  <th>Df Residuals:</th>          <td>    98</td>      <th>  BIC:               </th> <td>   322.9</td>\n",
       "</tr>\n",
       "<tr>\n",
       "  <th>Df Model:</th>              <td>     1</td>      <th>                     </th>     <td> </td>   \n",
       "</tr>\n",
       "<tr>\n",
       "  <th>Covariance Type:</th>      <td>nonrobust</td>    <th>                     </th>     <td> </td>   \n",
       "</tr>\n",
       "</table>\n",
       "<table class=\"simpletable\">\n",
       "<tr>\n",
       "      <td></td>         <th>coef</th>     <th>std err</th>      <th>t</th>      <th>P>|t|</th>  <th>[0.025</th>    <th>0.975]</th>  \n",
       "</tr>\n",
       "<tr>\n",
       "  <th>Intercept</th> <td>    0.0140</td> <td>    0.117</td> <td>    0.120</td> <td> 0.905</td> <td>   -0.219</td> <td>    0.247</td>\n",
       "</tr>\n",
       "<tr>\n",
       "  <th>x</th>         <td>   -0.3919</td> <td>    0.047</td> <td>   -8.379</td> <td> 0.000</td> <td>   -0.485</td> <td>   -0.299</td>\n",
       "</tr>\n",
       "</table>\n",
       "<table class=\"simpletable\">\n",
       "<tr>\n",
       "  <th>Omnibus:</th>       <td> 9.856</td> <th>  Durbin-Watson:     </th> <td>   1.634</td>\n",
       "</tr>\n",
       "<tr>\n",
       "  <th>Prob(Omnibus):</th> <td> 0.007</td> <th>  Jarque-Bera (JB):  </th> <td>   3.599</td>\n",
       "</tr>\n",
       "<tr>\n",
       "  <th>Skew:</th>          <td> 0.078</td> <th>  Prob(JB):          </th> <td>   0.165</td>\n",
       "</tr>\n",
       "<tr>\n",
       "  <th>Kurtosis:</th>      <td> 2.084</td> <th>  Cond. No.          </th> <td>    2.51</td>\n",
       "</tr>\n",
       "</table><br/><br/>Notes:<br/>[1] Standard Errors assume that the covariance matrix of the errors is correctly specified."
      ],
      "text/plain": [
       "<class 'statsmodels.iolib.summary.Summary'>\n",
       "\"\"\"\n",
       "                            OLS Regression Results                            \n",
       "==============================================================================\n",
       "Dep. Variable:                      y   R-squared:                       0.417\n",
       "Model:                            OLS   Adj. R-squared:                  0.411\n",
       "Method:                 Least Squares   F-statistic:                     70.22\n",
       "Date:                Thu, 22 Feb 2024   Prob (F-statistic):           3.91e-13\n",
       "Time:                        11:15:44   Log-Likelihood:                -156.82\n",
       "No. Observations:                 100   AIC:                             317.6\n",
       "Df Residuals:                      98   BIC:                             322.9\n",
       "Df Model:                           1                                         \n",
       "Covariance Type:            nonrobust                                         \n",
       "==============================================================================\n",
       "                 coef    std err          t      P>|t|      [0.025      0.975]\n",
       "------------------------------------------------------------------------------\n",
       "Intercept      0.0140      0.117      0.120      0.905      -0.219       0.247\n",
       "x             -0.3919      0.047     -8.379      0.000      -0.485      -0.299\n",
       "==============================================================================\n",
       "Omnibus:                        9.856   Durbin-Watson:                   1.634\n",
       "Prob(Omnibus):                  0.007   Jarque-Bera (JB):                3.599\n",
       "Skew:                           0.078   Prob(JB):                        0.165\n",
       "Kurtosis:                       2.084   Cond. No.                         2.51\n",
       "==============================================================================\n",
       "\n",
       "Notes:\n",
       "[1] Standard Errors assume that the covariance matrix of the errors is correctly specified.\n",
       "\"\"\""
      ]
     },
     "execution_count": 15,
     "metadata": {},
     "output_type": "execute_result"
    }
   ],
   "source": [
    "smf.ols('y ~ x', data=data).fit().summary()"
   ]
  },
  {
   "cell_type": "code",
   "execution_count": 16,
   "id": "0c21e288-7eac-4d0c-a30d-36b97a40f82c",
   "metadata": {},
   "outputs": [
    {
     "data": {
      "text/html": [
       "<table class=\"simpletable\">\n",
       "<caption>OLS Regression Results</caption>\n",
       "<tr>\n",
       "  <th>Dep. Variable:</th>            <td>y</td>        <th>  R-squared:         </th> <td>   0.576</td>\n",
       "</tr>\n",
       "<tr>\n",
       "  <th>Model:</th>                   <td>OLS</td>       <th>  Adj. R-squared:    </th> <td>   0.568</td>\n",
       "</tr>\n",
       "<tr>\n",
       "  <th>Method:</th>             <td>Least Squares</td>  <th>  F-statistic:       </th> <td>   65.98</td>\n",
       "</tr>\n",
       "<tr>\n",
       "  <th>Date:</th>             <td>Thu, 22 Feb 2024</td> <th>  Prob (F-statistic):</th> <td>8.14e-19</td>\n",
       "</tr>\n",
       "<tr>\n",
       "  <th>Time:</th>                 <td>11:17:28</td>     <th>  Log-Likelihood:    </th> <td> -140.90</td>\n",
       "</tr>\n",
       "<tr>\n",
       "  <th>No. Observations:</th>      <td>   100</td>      <th>  AIC:               </th> <td>   287.8</td>\n",
       "</tr>\n",
       "<tr>\n",
       "  <th>Df Residuals:</th>          <td>    97</td>      <th>  BIC:               </th> <td>   295.6</td>\n",
       "</tr>\n",
       "<tr>\n",
       "  <th>Df Model:</th>              <td>     2</td>      <th>                     </th>     <td> </td>   \n",
       "</tr>\n",
       "<tr>\n",
       "  <th>Covariance Type:</th>      <td>nonrobust</td>    <th>                     </th>     <td> </td>   \n",
       "</tr>\n",
       "</table>\n",
       "<table class=\"simpletable\">\n",
       "<tr>\n",
       "      <td></td>         <th>coef</th>     <th>std err</th>      <th>t</th>      <th>P>|t|</th>  <th>[0.025</th>    <th>0.975]</th>  \n",
       "</tr>\n",
       "<tr>\n",
       "  <th>Intercept</th> <td>   -0.0041</td> <td>    0.101</td> <td>   -0.041</td> <td> 0.968</td> <td>   -0.204</td> <td>    0.196</td>\n",
       "</tr>\n",
       "<tr>\n",
       "  <th>x</th>         <td>    0.1102</td> <td>    0.092</td> <td>    1.193</td> <td> 0.236</td> <td>   -0.073</td> <td>    0.294</td>\n",
       "</tr>\n",
       "<tr>\n",
       "  <th>z</th>         <td>   -1.1998</td> <td>    0.199</td> <td>   -6.032</td> <td> 0.000</td> <td>   -1.595</td> <td>   -0.805</td>\n",
       "</tr>\n",
       "</table>\n",
       "<table class=\"simpletable\">\n",
       "<tr>\n",
       "  <th>Omnibus:</th>       <td>13.102</td> <th>  Durbin-Watson:     </th> <td>   1.714</td>\n",
       "</tr>\n",
       "<tr>\n",
       "  <th>Prob(Omnibus):</th> <td> 0.001</td> <th>  Jarque-Bera (JB):  </th> <td>   4.047</td>\n",
       "</tr>\n",
       "<tr>\n",
       "  <th>Skew:</th>          <td> 0.009</td> <th>  Prob(JB):          </th> <td>   0.132</td>\n",
       "</tr>\n",
       "<tr>\n",
       "  <th>Kurtosis:</th>      <td> 2.015</td> <th>  Cond. No.          </th> <td>    5.87</td>\n",
       "</tr>\n",
       "</table><br/><br/>Notes:<br/>[1] Standard Errors assume that the covariance matrix of the errors is correctly specified."
      ],
      "text/plain": [
       "<class 'statsmodels.iolib.summary.Summary'>\n",
       "\"\"\"\n",
       "                            OLS Regression Results                            \n",
       "==============================================================================\n",
       "Dep. Variable:                      y   R-squared:                       0.576\n",
       "Model:                            OLS   Adj. R-squared:                  0.568\n",
       "Method:                 Least Squares   F-statistic:                     65.98\n",
       "Date:                Thu, 22 Feb 2024   Prob (F-statistic):           8.14e-19\n",
       "Time:                        11:17:28   Log-Likelihood:                -140.90\n",
       "No. Observations:                 100   AIC:                             287.8\n",
       "Df Residuals:                      97   BIC:                             295.6\n",
       "Df Model:                           2                                         \n",
       "Covariance Type:            nonrobust                                         \n",
       "==============================================================================\n",
       "                 coef    std err          t      P>|t|      [0.025      0.975]\n",
       "------------------------------------------------------------------------------\n",
       "Intercept     -0.0041      0.101     -0.041      0.968      -0.204       0.196\n",
       "x              0.1102      0.092      1.193      0.236      -0.073       0.294\n",
       "z             -1.1998      0.199     -6.032      0.000      -1.595      -0.805\n",
       "==============================================================================\n",
       "Omnibus:                       13.102   Durbin-Watson:                   1.714\n",
       "Prob(Omnibus):                  0.001   Jarque-Bera (JB):                4.047\n",
       "Skew:                           0.009   Prob(JB):                        0.132\n",
       "Kurtosis:                       2.015   Cond. No.                         5.87\n",
       "==============================================================================\n",
       "\n",
       "Notes:\n",
       "[1] Standard Errors assume that the covariance matrix of the errors is correctly specified.\n",
       "\"\"\""
      ]
     },
     "execution_count": 16,
     "metadata": {},
     "output_type": "execute_result"
    }
   ],
   "source": [
    "smf.ols('y ~ x + z', data=data).fit().summary()"
   ]
  },
  {
   "cell_type": "markdown",
   "id": "66291825-bf4f-4bbf-bb36-683eadd499d8",
   "metadata": {},
   "source": [
    "Now x is insignificant"
   ]
  },
  {
   "cell_type": "code",
   "execution_count": null,
   "id": "7db9a1a2-a4e9-412e-9ba0-a02040ebfdfc",
   "metadata": {},
   "outputs": [],
   "source": [
    "* pipe"
   ]
  },
  {
   "cell_type": "code",
   "execution_count": 30,
   "id": "cab84c6d-a304-406b-a23e-729221c1aedb",
   "metadata": {},
   "outputs": [
    {
     "data": {
      "text/html": [
       "<div>\n",
       "<style scoped>\n",
       "    .dataframe tbody tr th:only-of-type {\n",
       "        vertical-align: middle;\n",
       "    }\n",
       "\n",
       "    .dataframe tbody tr th {\n",
       "        vertical-align: top;\n",
       "    }\n",
       "\n",
       "    .dataframe thead th {\n",
       "        text-align: right;\n",
       "    }\n",
       "</style>\n",
       "<table border=\"1\" class=\"dataframe\">\n",
       "  <thead>\n",
       "    <tr style=\"text-align: right;\">\n",
       "      <th></th>\n",
       "      <th>x</th>\n",
       "      <th>y</th>\n",
       "      <th>z</th>\n",
       "    </tr>\n",
       "  </thead>\n",
       "  <tbody>\n",
       "    <tr>\n",
       "      <th>0</th>\n",
       "      <td>0.528475</td>\n",
       "      <td>1.256494</td>\n",
       "      <td>0.137165</td>\n",
       "    </tr>\n",
       "    <tr>\n",
       "      <th>1</th>\n",
       "      <td>-1.180613</td>\n",
       "      <td>-5.336943</td>\n",
       "      <td>-2.265313</td>\n",
       "    </tr>\n",
       "    <tr>\n",
       "      <th>2</th>\n",
       "      <td>1.771646</td>\n",
       "      <td>2.122228</td>\n",
       "      <td>1.006434</td>\n",
       "    </tr>\n",
       "    <tr>\n",
       "      <th>3</th>\n",
       "      <td>1.373054</td>\n",
       "      <td>9.703692</td>\n",
       "      <td>2.842638</td>\n",
       "    </tr>\n",
       "    <tr>\n",
       "      <th>4</th>\n",
       "      <td>-1.923414</td>\n",
       "      <td>-22.091045</td>\n",
       "      <td>-6.692096</td>\n",
       "    </tr>\n",
       "  </tbody>\n",
       "</table>\n",
       "</div>"
      ],
      "text/plain": [
       "          x          y         z\n",
       "0  0.528475   1.256494  0.137165\n",
       "1 -1.180613  -5.336943 -2.265313\n",
       "2  1.771646   2.122228  1.006434\n",
       "3  1.373054   9.703692  2.842638\n",
       "4 -1.923414 -22.091045 -6.692096"
      ]
     },
     "execution_count": 30,
     "metadata": {},
     "output_type": "execute_result"
    }
   ],
   "source": [
    "n = 100\n",
    "x = np.random.normal(0,1,size=n) #x is now sort of the independent variable\n",
    "z= 2*x + np.random.normal(0,1,size=n)\n",
    "y= 3*z + np.random.normal(0,1,size=n)\n",
    "data = pd.DataFrame({'x': x, 'y': y, 'z' : z})\n",
    "data.head()"
   ]
  },
  {
   "cell_type": "code",
   "execution_count": 31,
   "id": "eb45ba23-4406-46d5-b890-30a29a5e0997",
   "metadata": {},
   "outputs": [
    {
     "data": {
      "text/html": [
       "<table class=\"simpletable\">\n",
       "<caption>OLS Regression Results</caption>\n",
       "<tr>\n",
       "  <th>Dep. Variable:</th>            <td>y</td>        <th>  R-squared:         </th> <td>   0.979</td>\n",
       "</tr>\n",
       "<tr>\n",
       "  <th>Model:</th>                   <td>OLS</td>       <th>  Adj. R-squared:    </th> <td>   0.978</td>\n",
       "</tr>\n",
       "<tr>\n",
       "  <th>Method:</th>             <td>Least Squares</td>  <th>  F-statistic:       </th> <td>   2231.</td>\n",
       "</tr>\n",
       "<tr>\n",
       "  <th>Date:</th>             <td>Thu, 22 Feb 2024</td> <th>  Prob (F-statistic):</th> <td>8.01e-82</td>\n",
       "</tr>\n",
       "<tr>\n",
       "  <th>Time:</th>                 <td>11:25:46</td>     <th>  Log-Likelihood:    </th> <td> -143.78</td>\n",
       "</tr>\n",
       "<tr>\n",
       "  <th>No. Observations:</th>      <td>   100</td>      <th>  AIC:               </th> <td>   293.6</td>\n",
       "</tr>\n",
       "<tr>\n",
       "  <th>Df Residuals:</th>          <td>    97</td>      <th>  BIC:               </th> <td>   301.4</td>\n",
       "</tr>\n",
       "<tr>\n",
       "  <th>Df Model:</th>              <td>     2</td>      <th>                     </th>     <td> </td>   \n",
       "</tr>\n",
       "<tr>\n",
       "  <th>Covariance Type:</th>      <td>nonrobust</td>    <th>                     </th>     <td> </td>   \n",
       "</tr>\n",
       "</table>\n",
       "<table class=\"simpletable\">\n",
       "<tr>\n",
       "      <td></td>         <th>coef</th>     <th>std err</th>      <th>t</th>      <th>P>|t|</th>  <th>[0.025</th>    <th>0.975]</th>  \n",
       "</tr>\n",
       "<tr>\n",
       "  <th>Intercept</th> <td>    0.0732</td> <td>    0.107</td> <td>    0.682</td> <td> 0.497</td> <td>   -0.140</td> <td>    0.286</td>\n",
       "</tr>\n",
       "<tr>\n",
       "  <th>x</th>         <td>   -0.0880</td> <td>    0.248</td> <td>   -0.355</td> <td> 0.724</td> <td>   -0.581</td> <td>    0.405</td>\n",
       "</tr>\n",
       "<tr>\n",
       "  <th>z</th>         <td>    3.0242</td> <td>    0.115</td> <td>   26.372</td> <td> 0.000</td> <td>    2.797</td> <td>    3.252</td>\n",
       "</tr>\n",
       "</table>\n",
       "<table class=\"simpletable\">\n",
       "<tr>\n",
       "  <th>Omnibus:</th>       <td> 1.863</td> <th>  Durbin-Watson:     </th> <td>   1.940</td>\n",
       "</tr>\n",
       "<tr>\n",
       "  <th>Prob(Omnibus):</th> <td> 0.394</td> <th>  Jarque-Bera (JB):  </th> <td>   1.850</td>\n",
       "</tr>\n",
       "<tr>\n",
       "  <th>Skew:</th>          <td> 0.264</td> <th>  Prob(JB):          </th> <td>   0.396</td>\n",
       "</tr>\n",
       "<tr>\n",
       "  <th>Kurtosis:</th>      <td> 2.594</td> <th>  Cond. No.          </th> <td>    6.72</td>\n",
       "</tr>\n",
       "</table><br/><br/>Notes:<br/>[1] Standard Errors assume that the covariance matrix of the errors is correctly specified."
      ],
      "text/plain": [
       "<class 'statsmodels.iolib.summary.Summary'>\n",
       "\"\"\"\n",
       "                            OLS Regression Results                            \n",
       "==============================================================================\n",
       "Dep. Variable:                      y   R-squared:                       0.979\n",
       "Model:                            OLS   Adj. R-squared:                  0.978\n",
       "Method:                 Least Squares   F-statistic:                     2231.\n",
       "Date:                Thu, 22 Feb 2024   Prob (F-statistic):           8.01e-82\n",
       "Time:                        11:25:46   Log-Likelihood:                -143.78\n",
       "No. Observations:                 100   AIC:                             293.6\n",
       "Df Residuals:                      97   BIC:                             301.4\n",
       "Df Model:                           2                                         \n",
       "Covariance Type:            nonrobust                                         \n",
       "==============================================================================\n",
       "                 coef    std err          t      P>|t|      [0.025      0.975]\n",
       "------------------------------------------------------------------------------\n",
       "Intercept      0.0732      0.107      0.682      0.497      -0.140       0.286\n",
       "x             -0.0880      0.248     -0.355      0.724      -0.581       0.405\n",
       "z              3.0242      0.115     26.372      0.000       2.797       3.252\n",
       "==============================================================================\n",
       "Omnibus:                        1.863   Durbin-Watson:                   1.940\n",
       "Prob(Omnibus):                  0.394   Jarque-Bera (JB):                1.850\n",
       "Skew:                           0.264   Prob(JB):                        0.396\n",
       "Kurtosis:                       2.594   Cond. No.                         6.72\n",
       "==============================================================================\n",
       "\n",
       "Notes:\n",
       "[1] Standard Errors assume that the covariance matrix of the errors is correctly specified.\n",
       "\"\"\""
      ]
     },
     "execution_count": 31,
     "metadata": {},
     "output_type": "execute_result"
    }
   ],
   "source": [
    "smf.ols('y ~ x + z', data=data).fit().summary()"
   ]
  },
  {
   "cell_type": "code",
   "execution_count": 32,
   "id": "4ec04038-3b78-4ff0-a482-80e650d50864",
   "metadata": {},
   "outputs": [
    {
     "data": {
      "text/html": [
       "<table class=\"simpletable\">\n",
       "<caption>OLS Regression Results</caption>\n",
       "<tr>\n",
       "  <th>Dep. Variable:</th>            <td>y</td>        <th>  R-squared:         </th> <td>   0.826</td>\n",
       "</tr>\n",
       "<tr>\n",
       "  <th>Model:</th>                   <td>OLS</td>       <th>  Adj. R-squared:    </th> <td>   0.824</td>\n",
       "</tr>\n",
       "<tr>\n",
       "  <th>Method:</th>             <td>Least Squares</td>  <th>  F-statistic:       </th> <td>   465.8</td>\n",
       "</tr>\n",
       "<tr>\n",
       "  <th>Date:</th>             <td>Thu, 22 Feb 2024</td> <th>  Prob (F-statistic):</th> <td>5.15e-39</td>\n",
       "</tr>\n",
       "<tr>\n",
       "  <th>Time:</th>                 <td>11:25:50</td>     <th>  Log-Likelihood:    </th> <td> -248.81</td>\n",
       "</tr>\n",
       "<tr>\n",
       "  <th>No. Observations:</th>      <td>   100</td>      <th>  AIC:               </th> <td>   501.6</td>\n",
       "</tr>\n",
       "<tr>\n",
       "  <th>Df Residuals:</th>          <td>    98</td>      <th>  BIC:               </th> <td>   506.8</td>\n",
       "</tr>\n",
       "<tr>\n",
       "  <th>Df Model:</th>              <td>     1</td>      <th>                     </th>     <td> </td>   \n",
       "</tr>\n",
       "<tr>\n",
       "  <th>Covariance Type:</th>      <td>nonrobust</td>    <th>                     </th>     <td> </td>   \n",
       "</tr>\n",
       "</table>\n",
       "<table class=\"simpletable\">\n",
       "<tr>\n",
       "      <td></td>         <th>coef</th>     <th>std err</th>      <th>t</th>      <th>P>|t|</th>  <th>[0.025</th>    <th>0.975]</th>  \n",
       "</tr>\n",
       "<tr>\n",
       "  <th>Intercept</th> <td>   -0.6354</td> <td>    0.295</td> <td>   -2.151</td> <td> 0.034</td> <td>   -1.222</td> <td>   -0.049</td>\n",
       "</tr>\n",
       "<tr>\n",
       "  <th>x</th>         <td>    5.9407</td> <td>    0.275</td> <td>   21.582</td> <td> 0.000</td> <td>    5.394</td> <td>    6.487</td>\n",
       "</tr>\n",
       "</table>\n",
       "<table class=\"simpletable\">\n",
       "<tr>\n",
       "  <th>Omnibus:</th>       <td> 4.568</td> <th>  Durbin-Watson:     </th> <td>   2.257</td>\n",
       "</tr>\n",
       "<tr>\n",
       "  <th>Prob(Omnibus):</th> <td> 0.102</td> <th>  Jarque-Bera (JB):  </th> <td>   3.891</td>\n",
       "</tr>\n",
       "<tr>\n",
       "  <th>Skew:</th>          <td>-0.440</td> <th>  Prob(JB):          </th> <td>   0.143</td>\n",
       "</tr>\n",
       "<tr>\n",
       "  <th>Kurtosis:</th>      <td> 3.400</td> <th>  Cond. No.          </th> <td>    1.12</td>\n",
       "</tr>\n",
       "</table><br/><br/>Notes:<br/>[1] Standard Errors assume that the covariance matrix of the errors is correctly specified."
      ],
      "text/plain": [
       "<class 'statsmodels.iolib.summary.Summary'>\n",
       "\"\"\"\n",
       "                            OLS Regression Results                            \n",
       "==============================================================================\n",
       "Dep. Variable:                      y   R-squared:                       0.826\n",
       "Model:                            OLS   Adj. R-squared:                  0.824\n",
       "Method:                 Least Squares   F-statistic:                     465.8\n",
       "Date:                Thu, 22 Feb 2024   Prob (F-statistic):           5.15e-39\n",
       "Time:                        11:25:50   Log-Likelihood:                -248.81\n",
       "No. Observations:                 100   AIC:                             501.6\n",
       "Df Residuals:                      98   BIC:                             506.8\n",
       "Df Model:                           1                                         \n",
       "Covariance Type:            nonrobust                                         \n",
       "==============================================================================\n",
       "                 coef    std err          t      P>|t|      [0.025      0.975]\n",
       "------------------------------------------------------------------------------\n",
       "Intercept     -0.6354      0.295     -2.151      0.034      -1.222      -0.049\n",
       "x              5.9407      0.275     21.582      0.000       5.394       6.487\n",
       "==============================================================================\n",
       "Omnibus:                        4.568   Durbin-Watson:                   2.257\n",
       "Prob(Omnibus):                  0.102   Jarque-Bera (JB):                3.891\n",
       "Skew:                          -0.440   Prob(JB):                        0.143\n",
       "Kurtosis:                       3.400   Cond. No.                         1.12\n",
       "==============================================================================\n",
       "\n",
       "Notes:\n",
       "[1] Standard Errors assume that the covariance matrix of the errors is correctly specified.\n",
       "\"\"\""
      ]
     },
     "execution_count": 32,
     "metadata": {},
     "output_type": "execute_result"
    }
   ],
   "source": [
    "smf.ols('y ~ x', data=data).fit().summary()"
   ]
  },
  {
   "cell_type": "code",
   "execution_count": null,
   "id": "96ddcad9-37ca-4c44-9f07-da7a6c2c924f",
   "metadata": {},
   "outputs": [],
   "source": [
    "* collider"
   ]
  }
 ],
 "metadata": {
  "kernelspec": {
   "display_name": "Python 3 (ipykernel)",
   "language": "python",
   "name": "python3"
  },
  "language_info": {
   "codemirror_mode": {
    "name": "ipython",
    "version": 3
   },
   "file_extension": ".py",
   "mimetype": "text/x-python",
   "name": "python",
   "nbconvert_exporter": "python",
   "pygments_lexer": "ipython3",
   "version": "3.9.7"
  }
 },
 "nbformat": 4,
 "nbformat_minor": 5
}
